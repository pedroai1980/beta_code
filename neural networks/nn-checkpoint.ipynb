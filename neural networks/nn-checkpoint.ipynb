{
 "cells": [
  {
   "cell_type": "code",
   "execution_count": 1,
   "metadata": {},
   "outputs": [
    {
     "name": "stderr",
     "output_type": "stream",
     "text": [
      "Using TensorFlow backend.\n"
     ]
    }
   ],
   "source": [
    "# imports \n",
    "import numpy as np\n",
    "import pandas as pd\n",
    "\n",
    "import matplotlib.pyplot as plt\n",
    "import matplotlib as mpl\n",
    "from mpl_toolkits.mplot3d import Axes3D\n",
    "import seaborn as sns\n",
    "from tqdm import tqdm\n",
    "from keras_tqdm import TQDMNotebookCallback\n",
    "\n",
    "from keras.models import Sequential\n",
    "from keras.layers.core import Dense, Activation, Dropout, Flatten\n",
    "from keras.layers import TimeDistributed\n",
    "from keras.layers.recurrent import LSTM\n",
    "from keras.layers import Dense, Conv1D, MaxPool2D, Flatten, Dropout, CuDNNGRU, CuDNNLSTM\n",
    "from keras.callbacks import EarlyStopping, TensorBoard, ModelCheckpoint\n",
    "from keras.optimizers import Adam, SGD, Nadam\n",
    "from keras.layers import Bidirectional\n",
    "from time import time\n",
    "from keras.layers.normalization import BatchNormalization\n",
    "from keras.layers.advanced_activations import LeakyReLU, PReLU\n",
    "import tensorflow as tf\n",
    "from sklearn.preprocessing import StandardScaler"
   ]
  },
  {
   "cell_type": "code",
   "execution_count": 60,
   "metadata": {},
   "outputs": [],
   "source": [
    "# load 2018, 2017, 2016 - > use 2016, 2017, previous data from 2018 as X, next day as Y\n",
    "\n",
    "df_2016 = pd.read_csv(\"data/enero_2016.csv\", sep=\";\").values[:, 2:]\n",
    "df_2017 = pd.read_csv(\"data/enero_2017.csv\", sep=\";\").values[:, 2:]\n",
    "df_2018 = pd.read_csv(\"data/enero_2018.csv\", sep=\";\").values[:, 2:]"
   ]
  },
  {
   "cell_type": "code",
   "execution_count": 61,
   "metadata": {},
   "outputs": [
    {
     "name": "stdout",
     "output_type": "stream",
     "text": [
      "(4464, 12)\n",
      "(31, 144, 12)\n"
     ]
    }
   ],
   "source": [
    "print(df_2016.shape)\n",
    "df_2016 = df_2016.reshape(31, 144, 12)\n",
    "df_2017 = df_2017.reshape(31, 144, 12)\n",
    "df_2018 = df_2018.reshape(31, 144, 12)\n",
    "\n",
    "print(df_2016.shape)"
   ]
  },
  {
   "cell_type": "code",
   "execution_count": 58,
   "metadata": {},
   "outputs": [],
   "source": [
    "# Features: \n",
    "# X: 2016, 2017, 2018\n",
    "# Y: día siguiente"
   ]
  },
  {
   "cell_type": "code",
   "execution_count": 62,
   "metadata": {},
   "outputs": [
    {
     "name": "stdout",
     "output_type": "stream",
     "text": [
      "X_2016.shape (30, 144, 12)\n",
      "X_2017.shape (30, 144, 12)\n",
      "X_2018.shape (30, 144, 12)\n",
      "\n"
     ]
    }
   ],
   "source": []
  },
  {
   "cell_type": "code",
   "execution_count": 71,
   "metadata": {},
   "outputs": [
    {
     "name": "stdout",
     "output_type": "stream",
     "text": [
      "X_2016.shape (30, 144, 12)\n",
      "X_2017.shape (30, 144, 12)\n",
      "X_2018.shape (30, 144, 12)\n",
      "\n",
      "X.shape (30, 144, 36)\n",
      "Y.shape (30, 144, 12)\n"
     ]
    }
   ],
   "source": [
    "# calculate X - como la red es temporal, no need de hacer i:i+3\n",
    "X_2016 = df_2016[:-1] # np.array([df_2016[i:i+3] for i in range(len(df_2016)-3)])\n",
    "X_2017 = df_2017[:-1] # np.array([df_2017[i:i+3] for i in range(len(df_2017)-3)])\n",
    "X_2018 = df_2018[:-1] # np.array([df_2018[i:i+3] for i in range(len(df_2018)-3)])\n",
    "\n",
    "print(\"X_2016.shape\", X_2016.shape)\n",
    "print(\"X_2017.shape\", X_2017.shape)\n",
    "print(\"X_2018.shape\", X_2018.shape)\n",
    "print()\n",
    "\n",
    "X = np.concatenate([X_2016, X_2017, X_2017], axis=-1)\n",
    "print(\"X.shape\", X.shape)\n",
    "\n",
    "# calculate Y\n",
    "Y = df_2018[1:]\n",
    "print(\"Y.shape\", Y.shape)"
   ]
  },
  {
   "cell_type": "code",
   "execution_count": 72,
   "metadata": {},
   "outputs": [],
   "source": [
    "minimum = np.amin(X, axis=)\n",
    "maximum = np.amax(X)\n",
    "\n",
    "# rescale data to 0-1 scale\n",
    "X = (X-minimum) / (maximum-minimum)\n",
    "Y = (Y-minimum) / (maximum-minimum)\n",
    "\n",
    "from sklearn.preprocessing import StandardScaler\n",
    "\n",
    "scaler = StandardScaler()\n",
    "x_train = scaler.fit_transform(X)\n",
    "y_train = scaler.transform(Y)"
   ]
  },
  {
   "cell_type": "code",
   "execution_count": 76,
   "metadata": {},
   "outputs": [
    {
     "name": "stdout",
     "output_type": "stream",
     "text": [
      "_________________________________________________________________\n",
      "Layer (type)                 Output Shape              Param #   \n",
      "=================================================================\n",
      "lstm_17 (LSTM)               (None, 144, 128)          84480     \n",
      "_________________________________________________________________\n",
      "dropout_16 (Dropout)         (None, 144, 128)          0         \n",
      "_________________________________________________________________\n",
      "lstm_18 (LSTM)               (None, 144, 64)           49408     \n",
      "_________________________________________________________________\n",
      "dropout_17 (Dropout)         (None, 144, 64)           0         \n",
      "_________________________________________________________________\n",
      "lstm_19 (LSTM)               (None, 144, 32)           12416     \n",
      "_________________________________________________________________\n",
      "dropout_18 (Dropout)         (None, 144, 32)           0         \n",
      "_________________________________________________________________\n",
      "time_distributed_6 (TimeDist (None, 144, 12)           396       \n",
      "=================================================================\n",
      "Total params: 146,700\n",
      "Trainable params: 146,700\n",
      "Non-trainable params: 0\n",
      "_________________________________________________________________\n",
      "None\n"
     ]
    }
   ],
   "source": [
    "from keras.layers import TimeDistributed\n",
    "# create LSTM\n",
    "model = Sequential()\n",
    "model.add(LSTM(128, input_shape=(144, 36), return_sequences=True))\n",
    "model.add(Dropout(0.1))\n",
    "model.add(LSTM(64, return_sequences=True))\n",
    "model.add(Dropout(0.1))\n",
    "model.add(LSTM(32, return_sequences=True))\n",
    "model.add(Dropout(0.3))\n",
    "model.add(TimeDistributed(Dense(12)))\n",
    "model.compile(loss='mean_squared_error', optimizer='adam')\n",
    "print(model.summary())"
   ]
  },
  {
   "cell_type": "code",
   "execution_count": 77,
   "metadata": {},
   "outputs": [
    {
     "name": "stderr",
     "output_type": "stream",
     "text": [
      "c:\\users\\eric\\appdata\\local\\programs\\python\\python36\\lib\\site-packages\\ipykernel_launcher.py:1: UserWarning: The `nb_epoch` argument in `fit` has been renamed `epochs`.\n",
      "  \"\"\"Entry point for launching an IPython kernel.\n"
     ]
    },
    {
     "name": "stdout",
     "output_type": "stream",
     "text": [
      "Epoch 1/10\n",
      "30/30 [==============================] - ETA: 57s - loss: 0.13 - ETA: 25s - loss: 0.10 - ETA: 15s - loss: 0.08 - ETA: 9s - loss: 0.0768 - ETA: 5s - loss: 0.068 - ETA: 2s - loss: 0.064 - ETA: 0s - loss: 0.060 - 13s 435ms/step - loss: 0.0585\n",
      "Epoch 2/10\n",
      "30/30 [==============================] - ETA: 3s - loss: 0.030 - ETA: 3s - loss: 0.029 - ETA: 2s - loss: 0.029 - ETA: 2s - loss: 0.029 - ETA: 1s - loss: 0.028 - ETA: 0s - loss: 0.028 - ETA: 0s - loss: 0.028 - 5s 161ms/step - loss: 0.0279\n",
      "Epoch 3/10\n",
      "30/30 [==============================] - ETA: 4s - loss: 0.023 - ETA: 3s - loss: 0.023 - ETA: 2s - loss: 0.023 - ETA: 2s - loss: 0.024 - ETA: 1s - loss: 0.023 - ETA: 0s - loss: 0.023 - ETA: 0s - loss: 0.022 - 5s 165ms/step - loss: 0.0226\n",
      "Epoch 4/10\n",
      "30/30 [==============================] - ETA: 4s - loss: 0.022 - ETA: 3s - loss: 0.021 - ETA: 2s - loss: 0.021 - ETA: 2s - loss: 0.020 - ETA: 1s - loss: 0.020 - ETA: 0s - loss: 0.020 - ETA: 0s - loss: 0.020 - 5s 166ms/step - loss: 0.0202\n",
      "Epoch 5/10\n",
      "30/30 [==============================] - ETA: 4s - loss: 0.017 - ETA: 3s - loss: 0.018 - ETA: 2s - loss: 0.018 - ETA: 2s - loss: 0.018 - ETA: 1s - loss: 0.018 - ETA: 0s - loss: 0.018 - ETA: 0s - loss: 0.018 - 5s 166ms/step - loss: 0.0186\n",
      "Epoch 6/10\n",
      "30/30 [==============================] - ETA: 4s - loss: 0.018 - ETA: 3s - loss: 0.017 - ETA: 2s - loss: 0.017 - ETA: 2s - loss: 0.017 - ETA: 1s - loss: 0.017 - ETA: 0s - loss: 0.017 - ETA: 0s - loss: 0.017 - 5s 166ms/step - loss: 0.0171\n",
      "Epoch 7/10\n",
      "30/30 [==============================] - ETA: 3s - loss: 0.015 - ETA: 3s - loss: 0.016 - ETA: 2s - loss: 0.017 - ETA: 2s - loss: 0.017 - ETA: 1s - loss: 0.016 - ETA: 0s - loss: 0.016 - ETA: 0s - loss: 0.016 - 5s 165ms/step - loss: 0.0163\n",
      "Epoch 8/10\n",
      "30/30 [==============================] - ETA: 4s - loss: 0.014 - ETA: 3s - loss: 0.014 - ETA: 2s - loss: 0.015 - ETA: 2s - loss: 0.015 - ETA: 1s - loss: 0.015 - ETA: 0s - loss: 0.015 - ETA: 0s - loss: 0.015 - 5s 166ms/step - loss: 0.0152\n",
      "Epoch 9/10\n",
      "30/30 [==============================] - ETA: 3s - loss: 0.014 - ETA: 3s - loss: 0.015 - ETA: 2s - loss: 0.014 - ETA: 2s - loss: 0.014 - ETA: 1s - loss: 0.014 - ETA: 0s - loss: 0.014 - ETA: 0s - loss: 0.014 - 5s 163ms/step - loss: 0.0144\n",
      "Epoch 10/10\n",
      "30/30 [==============================] - ETA: 3s - loss: 0.011 - ETA: 3s - loss: 0.013 - ETA: 2s - loss: 0.013 - ETA: 2s - loss: 0.013 - ETA: 1s - loss: 0.013 - ETA: 0s - loss: 0.013 - ETA: 0s - loss: 0.013 - 5s 163ms/step - loss: 0.0137\n"
     ]
    }
   ],
   "source": [
    "his = model.fit(X, Y, batch_size=4, nb_epoch=10, verbose=1)# , callbacks=[TQDMNotebookCallback()])"
   ]
  },
  {
   "cell_type": "code",
   "execution_count": 78,
   "metadata": {},
   "outputs": [
    {
     "data": {
      "image/png": "[encoded data removed]",
      "text/plain": [
       "<Figure size 432x288 with 1 Axes>"
      ]
     },
     "metadata": {
      "needs_background": "light"
     },
     "output_type": "display_data"
    }
   ],
   "source": [
    "plt.plot(his.history[\"loss\"])\n",
    "plt.legend(\"mean squared error\", loc=\"upper left\")\n",
    "plt.show()"
   ]
  },
  {
   "cell_type": "code",
   "execution_count": 84,
   "metadata": {},
   "outputs": [
    {
     "data": {
      "image/png": "[encoded data removed]",
      "text/plain": [
       "<Figure size 432x288 with 1 Axes>"
      ]
     },
     "metadata": {
      "needs_background": "light"
     },
     "output_type": "display_data"
    }
   ],
   "source": [
    "# plt original day and pred day\n",
    "n = 1\n",
    "d = 3\n",
    "# make prediction\n",
    "pred = model.predict(np.array([X[d]]))\n",
    "# plot data\n",
    "plt.plot(X[d+1, :, n], \"r-\")\n",
    "plt.plot(pred[0, :, n], \"b-\")\n",
    "plt.legend([\"real\", \"predicted\"], loc=\"upper left\")\n",
    "plt.show()"
   ]
  },
  {
   "cell_type": "code",
   "execution_count": null,
   "metadata": {},
   "outputs": [],
   "source": []
  },
  {
   "cell_type": "code",
   "execution_count": null,
   "metadata": {},
   "outputs": [],
   "source": []
  }
 ],
 "metadata": {
  "kernelspec": {
   "display_name": "Python 3",
   "language": "python",
   "name": "python3"
  },
  "language_info": {
   "codemirror_mode": {
    "name": "ipython",
    "version": 3
   },
   "file_extension": ".py",
   "mimetype": "text/x-python",
   "name": "python",
   "nbconvert_exporter": "python",
   "pygments_lexer": "ipython3",
   "version": "3.6.7"
  }
 },
 "nbformat": 4,
 "nbformat_minor": 2
}
