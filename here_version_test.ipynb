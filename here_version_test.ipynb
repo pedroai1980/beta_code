{
 "cells": [
  {
   "cell_type": "code",
   "execution_count": 1,
   "metadata": {},
   "outputs": [],
   "source": [
    "#-*- coding: utf-8 -*-\n",
    "import sys\n",
    "import json\n",
    "import requests\n",
    "from bs4 import BeautifulSoup\n",
    "\n",
    "# isoline: https://developer.here.com/documentation/routing/topics/request-isoline.html\n",
    "# matrix: https://developer.here.com/documentation/routing/topics/request-matrix-of-routes.html\n",
    "\n",
    "# API PARAMS\n",
    "\n",
    "api_id  = \"\"\n",#to be completed with your HERE id
    "api_code = \"\"\n",#to be completed with your HERE id
    "\n",
    "# coords are in format [lat,lon]\n",
    "start  = [59.35 , 18   ]\n",
    "destin = [57.755, 14.13]\n",
    "\n",
    "transport = \"car\"\n",
    "mode      = [\"fastest\", \"shortest\", \"balanced\"][0]\n",
    "traffic   = \"enabled\"\n",
    "\n",
    "response = requests.get(\"https://route.api.here.com/routing/7.2/calculateroute.json\"+\n",
    "\t\t\t\t\t\t\"?app_id={0}&app_code={1}\".format(api_id, api_code)+\n",
    "\t\t\t\t\t\t\"&waypoint0=geo!{0},{1}\".format(start[0], start[1])+\n",
    "\t\t\t\t\t\t\"&waypoint1=geo!{0},{1}\".format(destin[0], destin[1])+\n",
    "\t\t\t\t\t\t\"&mode={0};{1};traffic:{2}\".format(mode, transport, traffic)).json()"
   ]
  },
  {
   "cell_type": "code",
   "execution_count": 2,
   "metadata": {},
   "outputs": [],
   "source": [
    "def removeHTML(raw_html):\n",
    "    return BeautifulSoup(raw_html, \"lxml\").text\n",
    "\n",
    "def timeConvert(seconds):\n",
    "    h = seconds // 3600\n",
    "    m = (seconds // 60 + 1) - h*60\n",
    "    \n",
    "    return str(h)+\"h \"+str(m)+\"m\"\n",
    "\n",
    "def getInstructions(raw):\n",
    "    instructions = []\n",
    "    for action in raw:\n",
    "        clean = removeHTML(action[\"instruction\"])\n",
    "        instructions.append(clean)\n",
    "        \n",
    "    return instructions"
   ]
  },
  {
   "cell_type": "code",
   "execution_count": 3,
   "metadata": {},
   "outputs": [],
   "source": [
    "# get custom route info\n",
    "summary = response[\"response\"][\"route\"][0][\"summary\"]\n",
    "\n",
    "route_info = {\n",
    "    \"distance\"       : summary[\"distance\"]/1000,\n",
    "    \"time_wo_traffic\": timeConvert(summary[\"baseTime\"]),\n",
    "    \"time_w_traffic\" : timeConvert(summary[\"trafficTime\"]),\n",
    "    \"instructions\"   : getInstructions(response[\"response\"][\"route\"][0][\"leg\"][0][\"maneuver\"])\n",
    "}"
   ]
  },
  {
   "cell_type": "code",
   "execution_count": 4,
   "metadata": {
    "scrolled": false
   },
   "outputs": [
    {
     "data": {
      "text/plain": [
       "{'distance': 327.233,\n",
       " 'time_wo_traffic': '3h 22m',\n",
       " 'time_w_traffic': '3h 30m',\n",
       " 'instructions': ['Head west on Ängkärrsgatan. Go for 88 m.',\n",
       "  'Turn right onto Ängkärrsgatan. Go for 280 m.',\n",
       "  'Turn right onto Huvudstagatan. Go for 139 m.',\n",
       "  'Turn right onto Storgatan. Go for 352 m.',\n",
       "  'Continue on Armégatan. Go for 288 m.',\n",
       "  'Turn left onto Ekelundsvägen toward Stockholm/E4/E20/Södertälje. Go for 139 m.',\n",
       "  'Take the 2nd exit from roundabout onto Ekelundsvägen toward E4 S/E20 S/Hornsberg. Go for 335 m.',\n",
       "  'Take the 2nd exit from roundabout onto E4/E20 (Essingeleden) toward E4 N/E20 N/Sjukhuset/Stockholm C. Go for 14.7 km.',\n",
       "  'Keep right onto E4/E20 (Södertäljevägen). Go for 18.7 km.',\n",
       "  'Continue on E4 toward Helsingborg/Nyköping. Go for 289 km.',\n",
       "  'Continue on 40 toward Göteborg/Flygplats. Go for 975 m.',\n",
       "  'Take exit 102 toward Haga. Go for 142 m.',\n",
       "  'Take the 2nd exit from roundabout onto Hagaleden. Go for 199 m.',\n",
       "  'Turn right onto Gräshagsgatan. Go for 320 m.',\n",
       "  'Turn left onto Lovisagatan. Go for 1.0 km.',\n",
       "  'Turn left onto Lovisagatan. Go for 183 m.',\n",
       "  'Arrive at Lovisagatan.']}"
      ]
     },
     "execution_count": 4,
     "metadata": {},
     "output_type": "execute_result"
    }
   ],
   "source": [
    "route_info"
   ]
  },
  {
   "cell_type": "markdown",
   "metadata": {},
   "source": [
    "# Ideas to Calculate eco params\n",
    "\n",
    "* **Calcular desnivel acumulado:** calcular altura en cada punto de giro y clacular diferencia de desnivel. Penalizar si desnivel acumulado es muy grande\n",
    "* **Calcular tiempo perdido por trafico:** significa que hemos tenido que frenar mucho / acmbiar de velocidad. \n",
    "* **Calcular numero de maniobras:**  Penalizar muchas maniobras ya que son cambios de velocidad / detenciones. \n",
    "* **Calcular facilidad de aparcamiento:** si es ciudad o pueblo ? xdd\n",
    "* **Clacular energia con la que se va a regcargar el coche:** AI PART"
   ]
  },
  {
   "cell_type": "markdown",
   "metadata": {},
   "source": [
    "# Ideas / future roadmap\n",
    "\n",
    "* **Use isoline to find chargers:** Use HERE isoline method to find chargers. \n",
    "* **Use A* or genetic algo:** Use A* / genetic algorithm to find optimal soltutions for charger disponibility\n",
    "* **Pass charger points to HERE:** Use constrained route service (pasa por los puntos que le indicamos) para pasar por los cargadores y que no se nos agote la batería. \n",
    "* **Build Eco-Driving score function:** Toma en cuenta parametros tanto de la propia ruta como de los modelos de inteligencia artificial que indican el tipo de energia con la que se recargará el coche. \n",
    "* **Calcula rutas en HERE:** Coge las rutas de HERE (3 x cada combinacion de cargadores - fastest, shortest, balanced). Evalua las rutas y coge las 3 mas eco. \n",
    "* **Display routes as imgs:** Enseña las rutas como imagenes en el mapa para que el cliente pueda escoger la ruta (por paisaje, ciudades por las que quiere pasar, etc). Asigna un ecodriving score a cada una de ellas para que el cliente sea consciente de las puntuaciones.\n",
    "* **Our app is working! Hurra!**"
   ]
  },
  {
   "cell_type": "code",
   "execution_count": null,
   "metadata": {},
   "outputs": [],
   "source": []
  },
  {
   "cell_type": "code",
   "execution_count": null,
   "metadata": {},
   "outputs": [],
   "source": [
    "# base version\n",
    "r = requests.get(\"https://image.maps.api.here.com/mia/1.6/route\"\n",
    "\"?app_id={0}\".format(api_id)+\n",
    "\"&app_code={0}\".format(api_code)+\n",
    "\"&r0=52.5338,13.2966,52.538361,13.325329\"+\n",
    "\"&r1=52.540867,13.262444,52.536691,13.264561,\"+\n",
    "\"52.529172,13.268337,52.528337,13.273144,\"+\n",
    "\"52.52583,13.27898,52.518728,13.279667\"+\n",
    "\"&m0=52.5338,13.2966,52.538361,13.325329\"+\n",
    "\"&m1=52.540867,13.262444,52.518728,13.279667\"+\n",
    "\"&lc0=440000ff\"+\n",
    "\"&sc0=440000ff\"+\n",
    "\"&lw0=6\"+\n",
    "\"&lc1=44ff00ff\"+\n",
    "\"&sc1=44ff00ff\"+\n",
    "\"&lw1=3\", stream=True)"
   ]
  },
  {
   "cell_type": "markdown",
   "metadata": {},
   "source": [
    "This example shows two pre-calculated routes over a Berlin map. The parameters rN define the route drawn on the map and the parameters mN define where the route marker icons appear. "
   ]
  },
  {
   "cell_type": "code",
   "execution_count": 21,
   "metadata": {},
   "outputs": [],
   "source": [
    "r = requests.get(\"https://image.maps.api.here.com/mia/1.6/route\"\n",
    "\"?app_id={0}\".format(api_id)+\n",
    "\"&app_code={0}\".format(api_code)+\n",
    "\"&r0=52.5338,13.2966\"+\n",
    "\"&r1=52.540867,13.262444\"+\n",
    "\"&m0=52.5338,13.2966\"+\n",
    "\"&m1=52.540867,13.262444\"+\n",
    "\"&lc0=440000ff\"+\n",
    "\"&sc0=440000ff\"+\n",
    "\"&lw0=6\", stream=True)"
   ]
  },
  {
   "cell_type": "code",
   "execution_count": 22,
   "metadata": {},
   "outputs": [],
   "source": [
    "import shutil\n",
    "with open('img.png', 'wb') as out_file:\n",
    "    shutil.copyfileobj(r.raw, out_file)"
   ]
  },
  {
   "cell_type": "code",
   "execution_count": 23,
   "metadata": {},
   "outputs": [
    {
     "data": {
      "image/png": "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\n",
      "text/plain": [
       "<IPython.core.display.Image object>"
      ]
     },
     "execution_count": 23,
     "metadata": {},
     "output_type": "execute_result"
    }
   ],
   "source": [
    "from IPython.display import Image \n",
    "Image(filename='img.png')"
   ]
  },
  {
   "cell_type": "code",
   "execution_count": null,
   "metadata": {},
   "outputs": [],
   "source": []
  },
  {
   "cell_type": "code",
   "execution_count": null,
   "metadata": {},
   "outputs": [],
   "source": []
  },
  {
   "cell_type": "code",
   "execution_count": null,
   "metadata": {},
   "outputs": [],
   "source": []
  },
  {
   "cell_type": "code",
   "execution_count": null,
   "metadata": {},
   "outputs": [],
   "source": []
  },
  {
   "cell_type": "code",
   "execution_count": null,
   "metadata": {},
   "outputs": [],
   "source": []
  },
  {
   "cell_type": "code",
   "execution_count": null,
   "metadata": {},
   "outputs": [],
   "source": []
  },
  {
   "cell_type": "code",
   "execution_count": null,
   "metadata": {},
   "outputs": [],
   "source": []
  },
  {
   "cell_type": "code",
   "execution_count": 6,
   "metadata": {
    "scrolled": false
   },
   "outputs": [
    {
     "data": {
      "text/plain": [
       "{'response': {'metaInfo': {'timestamp': '2019-05-31T07:58:49Z',\n",
       "   'mapVersion': '8.30.96.157',\n",
       "   'moduleVersion': '7.2.201920-3561',\n",
       "   'interfaceVersion': '2.6.56',\n",
       "   'availableMapVersion': ['8.30.96.157']},\n",
       "  'route': [{'waypoint': [{'linkId': '+1220089704',\n",
       "      'mappedPosition': {'latitude': 59.3502796, 'longitude': 17.9991245},\n",
       "      'originalPosition': {'latitude': 59.3499999, 'longitude': 17.9999999},\n",
       "      'type': 'stopOver',\n",
       "      'spot': 0.0,\n",
       "      'sideOfStreet': 'left',\n",
       "      'mappedRoadName': 'Ängkärrsgatan',\n",
       "      'label': 'Ängkärrsgatan',\n",
       "      'shapeIndex': 0},\n",
       "     {'linkId': '-29150020',\n",
       "      'mappedPosition': {'latitude': 57.7536678, 'longitude': 14.1290725},\n",
       "      'originalPosition': {'latitude': 57.755, 'longitude': 14.13},\n",
       "      'type': 'stopOver',\n",
       "      'spot': 0.7155963,\n",
       "      'sideOfStreet': 'neither',\n",
       "      'mappedRoadName': 'Lovisagatan',\n",
       "      'label': 'Lovisagatan',\n",
       "      'shapeIndex': 2824}],\n",
       "    'mode': {'type': 'fastest',\n",
       "     'transportModes': ['car'],\n",
       "     'trafficMode': 'enabled',\n",
       "     'feature': []},\n",
       "    'leg': [{'start': {'linkId': '+1220089704',\n",
       "       'mappedPosition': {'latitude': 59.3502796, 'longitude': 17.9991245},\n",
       "       'originalPosition': {'latitude': 59.3499999, 'longitude': 17.9999999},\n",
       "       'type': 'stopOver',\n",
       "       'spot': 0.0,\n",
       "       'sideOfStreet': 'left',\n",
       "       'mappedRoadName': 'Ängkärrsgatan',\n",
       "       'label': 'Ängkärrsgatan',\n",
       "       'shapeIndex': 0},\n",
       "      'end': {'linkId': '-29150020',\n",
       "       'mappedPosition': {'latitude': 57.7536678, 'longitude': 14.1290725},\n",
       "       'originalPosition': {'latitude': 57.755, 'longitude': 14.13},\n",
       "       'type': 'stopOver',\n",
       "       'spot': 0.7155963,\n",
       "       'sideOfStreet': 'neither',\n",
       "       'mappedRoadName': 'Lovisagatan',\n",
       "       'label': 'Lovisagatan',\n",
       "       'shapeIndex': 2824},\n",
       "      'length': 327232,\n",
       "      'travelTime': 13066,\n",
       "      'maneuver': [{'position': {'latitude': 59.3502796,\n",
       "         'longitude': 17.9991245},\n",
       "        'instruction': 'Head <span class=\"heading\">west</span> on <span class=\"street\">Ängkärrsgatan</span>. <span class=\"distance-description\">Go for <span class=\"length\">88 m</span>.</span>',\n",
       "        'travelTime': 18,\n",
       "        'length': 88,\n",
       "        'id': 'M1',\n",
       "        '_type': 'PrivateTransportManeuverType'},\n",
       "       {'position': {'latitude': 59.3509555, 'longitude': 17.9987061},\n",
       "        'instruction': 'Turn <span class=\"direction\">right</span> onto <span class=\"next-street\">Ängkärrsgatan</span>. <span class=\"distance-description\">Go for <span class=\"length\">280 m</span>.</span>',\n",
       "        'travelTime': 54,\n",
       "        'length': 280,\n",
       "        'id': 'M2',\n",
       "        '_type': 'PrivateTransportManeuverType'},\n",
       "       {'position': {'latitude': 59.352715, 'longitude': 17.9969573},\n",
       "        'instruction': 'Turn <span class=\"direction\">right</span> onto <span class=\"next-street\">Huvudstagatan</span>. <span class=\"distance-description\">Go for <span class=\"length\">139 m</span>.</span>',\n",
       "        'travelTime': 33,\n",
       "        'length': 139,\n",
       "        'id': 'M3',\n",
       "        '_type': 'PrivateTransportManeuverType'},\n",
       "       {'position': {'latitude': 59.3539488, 'longitude': 17.9971933},\n",
       "        'instruction': 'Turn <span class=\"direction\">right</span> onto <span class=\"next-street\">Storgatan</span>. <span class=\"distance-description\">Go for <span class=\"length\">352 m</span>.</span>',\n",
       "        'travelTime': 52,\n",
       "        'length': 352,\n",
       "        'id': 'M4',\n",
       "        '_type': 'PrivateTransportManeuverType'},\n",
       "       {'position': {'latitude': 59.3534124, 'longitude': 18.0031586},\n",
       "        'instruction': 'Continue on <span class=\"next-street\">Armégatan</span>. <span class=\"distance-description\">Go for <span class=\"length\">288 m</span>.</span>',\n",
       "        'travelTime': 54,\n",
       "        'length': 288,\n",
       "        'id': 'M5',\n",
       "        '_type': 'PrivateTransportManeuverType'},\n",
       "       {'position': {'latitude': 59.3509984, 'longitude': 18.0047894},\n",
       "        'instruction': 'Turn <span class=\"direction\">left</span> onto <span class=\"next-street\">Ekelundsvägen</span> toward <span class=\"sign\"><span lang=\"sv\">Stockholm</span>/<span lang=\"sv\">E4</span>/<span lang=\"sv\">E20</span>/<span lang=\"sv\">Södertälje</span></span>. <span class=\"distance-description\">Go for <span class=\"length\">139 m</span>.</span>',\n",
       "        'travelTime': 18,\n",
       "        'length': 139,\n",
       "        'id': 'M6',\n",
       "        '_type': 'PrivateTransportManeuverType'},\n",
       "       {'position': {'latitude': 59.349947, 'longitude': 18.0060124},\n",
       "        'instruction': 'Take the <span class=\"exit\">2nd exit</span> from roundabout onto <span class=\"next-street\">Ekelundsvägen</span> toward <span class=\"sign\"><span lang=\"sv\">E4 S</span>/<span lang=\"sv\">E20 S</span>/<span lang=\"sv\">Hornsberg</span></span>. <span class=\"distance-description\">Go for <span class=\"length\">335 m</span>.</span>',\n",
       "        'travelTime': 43,\n",
       "        'length': 335,\n",
       "        'id': 'M7',\n",
       "        '_type': 'PrivateTransportManeuverType'},\n",
       "       {'position': {'latitude': 59.3484664, 'longitude': 18.0096281},\n",
       "        'instruction': 'Take the <span class=\"exit\">2nd exit</span> from roundabout onto <span class=\"number\">E4/E20</span> <span class=\"next-street\">(Essingeleden)</span> toward <span class=\"sign\"><span lang=\"sv\">E4 N</span>/<span lang=\"sv\">E20 N</span>/<span lang=\"sv\">Sjukhuset</span>/<span lang=\"sv\">Stockholm C</span></span>. <span class=\"distance-description\">Go for <span class=\"length\">14.7 km</span>.</span>',\n",
       "        'travelTime': 800,\n",
       "        'length': 14685,\n",
       "        'id': 'M8',\n",
       "        '_type': 'PrivateTransportManeuverType'},\n",
       "       {'position': {'latitude': 59.2644382, 'longitude': 17.8973401},\n",
       "        'instruction': 'Keep <span class=\"direction\">right</span> onto <span class=\"number\">E4/E20</span> <span class=\"next-street\">(Södertäljevägen)</span>. <span class=\"distance-description\">Go for <span class=\"length\">18.7 km</span>.</span>',\n",
       "        'travelTime': 782,\n",
       "        'length': 18717,\n",
       "        'id': 'M9',\n",
       "        '_type': 'PrivateTransportManeuverType'},\n",
       "       {'position': {'latitude': 59.1813326, 'longitude': 17.6416504},\n",
       "        'instruction': 'Continue on <span class=\"number\">E4</span> toward <span class=\"sign\"><span lang=\"sv\">Helsingborg</span>/<span lang=\"sv\">Nyköping</span></span>. <span class=\"distance-description\">Go for <span class=\"length\">289 km</span>.</span>',\n",
       "        'travelTime': 10785,\n",
       "        'length': 289205,\n",
       "        'id': 'M10',\n",
       "        '_type': 'PrivateTransportManeuverType'},\n",
       "       {'position': {'latitude': 57.7583885, 'longitude': 14.1565275},\n",
       "        'instruction': 'Continue on <span class=\"number\">40</span> toward <span class=\"sign\"><span lang=\"sv\">Göteborg</span>/<span lang=\"sv\">Flygplats</span></span>. <span class=\"distance-description\">Go for <span class=\"length\">975 m</span>.</span>',\n",
       "        'travelTime': 51,\n",
       "        'length': 975,\n",
       "        'id': 'M11',\n",
       "        '_type': 'PrivateTransportManeuverType'},\n",
       "       {'position': {'latitude': 57.7588284, 'longitude': 14.1402304},\n",
       "        'instruction': 'Take exit <span class=\"exit\">102</span> toward <span class=\"sign\"><span lang=\"sv\">Haga</span></span>. <span class=\"distance-description\">Go for <span class=\"length\">142 m</span>.</span>',\n",
       "        'travelTime': 12,\n",
       "        'length': 142,\n",
       "        'id': 'M12',\n",
       "        '_type': 'PrivateTransportManeuverType'},\n",
       "       {'position': {'latitude': 57.7589035, 'longitude': 14.1380847},\n",
       "        'instruction': 'Take the <span class=\"exit\">2nd exit</span> from roundabout onto <span class=\"next-street\">Hagaleden</span>. <span class=\"distance-description\">Go for <span class=\"length\">199 m</span>.</span>',\n",
       "        'travelTime': 30,\n",
       "        'length': 199,\n",
       "        'id': 'M13',\n",
       "        '_type': 'PrivateTransportManeuverType'},\n",
       "       {'position': {'latitude': 57.7578521, 'longitude': 14.1362393},\n",
       "        'instruction': 'Turn <span class=\"direction\">right</span> onto <span class=\"next-street\">Gräshagsgatan</span>. <span class=\"distance-description\">Go for <span class=\"length\">320 m</span>.</span>',\n",
       "        'travelTime': 53,\n",
       "        'length': 320,\n",
       "        'id': 'M14',\n",
       "        '_type': 'PrivateTransportManeuverType'},\n",
       "       {'position': {'latitude': 57.7591825, 'longitude': 14.131465},\n",
       "        'instruction': 'Turn <span class=\"direction\">left</span> onto <span class=\"next-street\">Lovisagatan</span>. <span class=\"distance-description\">Go for <span class=\"length\">1.0 km</span>.</span>',\n",
       "        'travelTime': 153,\n",
       "        'length': 1027,\n",
       "        'id': 'M15',\n",
       "        '_type': 'PrivateTransportManeuverType'},\n",
       "       {'position': {'latitude': 57.7522624, 'longitude': 14.128536},\n",
       "        'instruction': 'Turn <span class=\"direction\">left</span> onto <span class=\"next-street\">Lovisagatan</span>. <span class=\"distance-description\">Go for <span class=\"length\">183 m</span>.</span>',\n",
       "        'travelTime': 71,\n",
       "        'length': 183,\n",
       "        'id': 'M16',\n",
       "        '_type': 'PrivateTransportManeuverType'},\n",
       "       {'position': {'latitude': 57.7536678, 'longitude': 14.1290725},\n",
       "        'instruction': 'Arrive at <span class=\"street\">Lovisagatan</span>.',\n",
       "        'travelTime': 57,\n",
       "        'length': 158,\n",
       "        'id': 'M17',\n",
       "        '_type': 'PrivateTransportManeuverType'}]}],\n",
       "    'summary': {'distance': 327232,\n",
       "     'trafficTime': 13066,\n",
       "     'baseTime': 12093,\n",
       "     'flags': ['tollroad', 'tunnel', 'motorway', 'builtUpArea'],\n",
       "     'text': 'The trip takes <span class=\"length\">327 km</span> and <span class=\"time\">3:38 h</span>.',\n",
       "     'travelTime': 13066,\n",
       "     '_type': 'RouteSummaryType'}}],\n",
       "  'language': 'en-us'}}"
      ]
     },
     "execution_count": 6,
     "metadata": {},
     "output_type": "execute_result"
    }
   ],
   "source": [
    "response"
   ]
  },
  {
   "cell_type": "code",
   "execution_count": null,
   "metadata": {},
   "outputs": [],
   "source": []
  }
 ],
 "metadata": {
  "kernelspec": {
   "display_name": "Python 3",
   "language": "python",
   "name": "python3"
  },
  "language_info": {
   "codemirror_mode": {
    "name": "ipython",
    "version": 3
   },
   "file_extension": ".py",
   "mimetype": "text/x-python",
   "name": "python",
   "nbconvert_exporter": "python",
   "pygments_lexer": "ipython3",
   "version": "3.6.7"
  }
 },
 "nbformat": 4,
 "nbformat_minor": 2
}
