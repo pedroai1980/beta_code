{
 "cells": [
  {
   "cell_type": "code",
   "execution_count": 1,
   "metadata": {},
   "outputs": [],
   "source": [
    "#-*- coding: utf-8 -*-\n",
    "import sys\n",
    "import json\n",
    "import requests\n",
    "from bs4 import BeautifulSoup\n",
    "\n",
    "# isoline: https://developer.here.com/documentation/routing/topics/request-isoline.html\n",
    "# matrix: https://developer.here.com/documentation/routing/topics/request-matrix-of-routes.html\n",
    "\n",
    "# API PARAMS\n",
    "\n",
    "api_id  = \"\"\n",#to be completed with your HERE id
    "api_code = \"\"\n",#to be completed with your HERE id
    "\n",
    "# coords are in format [lat,lon]\n",
    "start  = [59.35 , 18   ]\n",
    "destin = [57.755, 14.13]\n",
    "\n",
    "transport = \"car\"\n",
    "mode      = [\"fastest\", \"shortest\", \"balanced\"][0]\n",
    "traffic   = \"enabled\"\n",
    "\n",
    "response = requests.get(\"https://route.api.here.com/routing/7.2/calculateroute.json\"+\n",
    "\t\t\t\t\t\t\"?app_id={0}&app_code={1}\".format(api_id, api_code)+\n",
    "\t\t\t\t\t\t\"&waypoint0=geo!{0},{1}\".format(start[0], start[1])+\n",
    "\t\t\t\t\t\t\"&waypoint1=geo!{0},{1}\".format(destin[0], destin[1])+\n",
    "\t\t\t\t\t\t\"&mode={0};{1};traffic:{2}\".format(mode, transport, traffic)).json()"
   ]
  },
  {
   "cell_type": "code",
   "execution_count": 2,
   "metadata": {},
   "outputs": [],
   "source": [
    "def removeHTML(raw_html):\n",
    "    return BeautifulSoup(raw_html, \"lxml\").text\n",
    "\n",
    "def timeConvert(seconds):\n",
    "    h = seconds // 3600\n",
    "    m = (seconds // 60 + 1) - h*60\n",
    "    \n",
    "    return str(h)+\"h \"+str(m)+\"m\"\n",
    "\n",
    "def getInstructions(raw):\n",
    "    instructions = []\n",
    "    for action in raw:\n",
    "        clean = removeHTML(action[\"instruction\"])\n",
    "        instructions.append(clean)\n",
    "        \n",
    "    return instructions"
   ]
  },
  {
   "cell_type": "code",
   "execution_count": 3,
   "metadata": {},
   "outputs": [],
   "source": [
    "# get custom route info\n",
    "summary = response[\"response\"][\"route\"][0][\"summary\"]\n",
    "\n",
    "route_info = {\n",
    "    \"distance\"       : summary[\"distance\"]/1000,\n",
    "    \"time_wo_traffic\": timeConvert(summary[\"baseTime\"]),\n",
    "    \"time_w_traffic\" : timeConvert(summary[\"trafficTime\"]),\n",
    "    \"instructions\"   : getInstructions(response[\"response\"][\"route\"][0][\"leg\"][0][\"maneuver\"])\n",
    "}"
   ]
  },
  {
   "cell_type": "code",
   "execution_count": 4,
   "metadata": {
    "scrolled": false
   },
   "outputs": [
    {
     "data": {
      "text/plain": [
       "{'distance': 327.233,\n",
       " 'time_wo_traffic': '3h 22m',\n",
       " 'time_w_traffic': '3h 30m',\n",
       " 'instructions': ['Head west on Ängkärrsgatan. Go for 88 m.',\n",
       "  'Turn right onto Ängkärrsgatan. Go for 280 m.',\n",
       "  'Turn right onto Huvudstagatan. Go for 139 m.',\n",
       "  'Turn right onto Storgatan. Go for 352 m.',\n",
       "  'Continue on Armégatan. Go for 288 m.',\n",
       "  'Turn left onto Ekelundsvägen toward Stockholm/E4/E20/Södertälje. Go for 139 m.',\n",
       "  'Take the 2nd exit from roundabout onto Ekelundsvägen toward E4 S/E20 S/Hornsberg. Go for 335 m.',\n",
       "  'Take the 2nd exit from roundabout onto E4/E20 (Essingeleden) toward E4 N/E20 N/Sjukhuset/Stockholm C. Go for 14.7 km.',\n",
       "  'Keep right onto E4/E20 (Södertäljevägen). Go for 18.7 km.',\n",
       "  'Continue on E4 toward Helsingborg/Nyköping. Go for 289 km.',\n",
       "  'Continue on 40 toward Göteborg/Flygplats. Go for 975 m.',\n",
       "  'Take exit 102 toward Haga. Go for 142 m.',\n",
       "  'Take the 2nd exit from roundabout onto Hagaleden. Go for 199 m.',\n",
       "  'Turn right onto Gräshagsgatan. Go for 320 m.',\n",
       "  'Turn left onto Lovisagatan. Go for 1.0 km.',\n",
       "  'Turn left onto Lovisagatan. Go for 183 m.',\n",
       "  'Arrive at Lovisagatan.']}"
      ]
     },
     "execution_count": 4,
     "metadata": {},
     "output_type": "execute_result"
    }
   ],
   "source": [
    "route_info"
   ]
  },
  {
   "cell_type": "markdown",
   "metadata": {},
   "source": [
    "# Ideas to Calculate eco params\n",
    "\n",
    "* **Calcular desnivel acumulado:** calcular altura en cada punto de giro y clacular diferencia de desnivel. Penalizar si desnivel acumulado es muy grande\n",
    "* **Calcular tiempo perdido por trafico:** significa que hemos tenido que frenar mucho / acmbiar de velocidad. \n",
    "* **Calcular numero de maniobras:**  Penalizar muchas maniobras ya que son cambios de velocidad / detenciones. \n",
    "* **Calcular facilidad de aparcamiento:** si es ciudad o pueblo ? xdd\n",
    "* **Clacular energia con la que se va a regcargar el coche:** AI PART"
   ]
  },
  {
   "cell_type": "markdown",
   "metadata": {},
   "source": [
    "# Ideas / future roadmap\n",
    "\n",
    "* **Use isoline to find chargers:** Use HERE isoline method to find chargers. \n",
    "* **Use A* or genetic algo:** Use A* / genetic algorithm to find optimal soltutions for charger disponibility\n",
    "* **Pass charger points to HERE:** Use constrained route service (pasa por los puntos que le indicamos) para pasar por los cargadores y que no se nos agote la batería. \n",
    "* **Build Eco-Driving score function:** Toma en cuenta parametros tanto de la propia ruta como de los modelos de inteligencia artificial que indican el tipo de energia con la que se recargará el coche. \n",
    "* **Calcula rutas en HERE:** Coge las rutas de HERE (3 x cada combinacion de cargadores - fastest, shortest, balanced). Evalua las rutas y coge las 3 mas eco. \n",
    "* **Display routes as imgs:** Enseña las rutas como imagenes en el mapa para que el cliente pueda escoger la ruta (por paisaje, ciudades por las que quiere pasar, etc). Asigna un ecodriving score a cada una de ellas para que el cliente sea consciente de las puntuaciones.\n",
    "* **Our app is working! Hurra!**"
   ]
  },
  {
   "cell_type": "code",
   "execution_count": null,
   "metadata": {},
   "outputs": [],
   "source": []
  },
  {
   "cell_type": "code",
   "execution_count": null,
   "metadata": {},
   "outputs": [],
   "source": [
    "# base version\n",
    "r = requests.get(\"https://image.maps.api.here.com/mia/1.6/route\"\n",
    "\"?app_id={0}\".format(api_id)+\n",
    "\"&app_code={0}\".format(api_code)+\n",
    "\"&r0=52.5338,13.2966,52.538361,13.325329\"+\n",
    "\"&r1=52.540867,13.262444,52.536691,13.264561,\"+\n",
    "\"52.529172,13.268337,52.528337,13.273144,\"+\n",
    "\"52.52583,13.27898,52.518728,13.279667\"+\n",
    "\"&m0=52.5338,13.2966,52.538361,13.325329\"+\n",
    "\"&m1=52.540867,13.262444,52.518728,13.279667\"+\n",
    "\"&lc0=440000ff\"+\n",
    "\"&sc0=440000ff\"+\n",
    "\"&lw0=6\"+\n",
    "\"&lc1=44ff00ff\"+\n",
    "\"&sc1=44ff00ff\"+\n",
    "\"&lw1=3\", stream=True)"
   ]
  },
  {
   "cell_type": "code",
   "execution_count": 5,
   "metadata": {},
   "outputs": [],
   "source": [
    "r = requests.get(\"https://image.maps.api.here.com/mia/1.6/route\"\n",
    "\"?app_id={0}\".format(api_id)+\n",
    "\"&app_code={0}\".format(api_code)+\n",
    "\"&r0=52.5338,13.2966\"+\n",
    "\"&r1=52.540867,13.262444\"+\n",
    "\"52.529172,13.268337\"+\n",
    "\"52.52583,13.27898\"+\n",
    "\"&m0=52.5338,13.2966\"+\n",
    "\"&m1=52.540867,13.262444\"+\n",
    "\"&lc0=440000ff\"+\n",
    "\"&sc0=440000ff\"+\n",
    "\"&lw0=6\"+\n",
    "\"&lc1=44ff00ff\"+\n",
    "\"&sc1=44ff00ff\"+\n",
    "\"&lw1=3\", stream=True)"
   ]
  },
  {
   "cell_type": "code",
   "execution_count": 6,
   "metadata": {},
   "outputs": [],
   "source": [
    "import shutil\n",
    "with open('img.png', 'wb') as out_file:\n",
    "    shutil.copyfileobj(r.raw, out_file)"
   ]
  },
  {
   "cell_type": "code",
   "execution_count": 8,
   "metadata": {},
   "outputs": [
    {
     "data": {
      "image/png": "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\n",
      "text/plain": [
       "<IPython.core.display.Image object>"
      ]
     },
     "execution_count": 8,
     "metadata": {},
     "output_type": "execute_result"
    }
   ],
   "source": [
    "from IPython.display import Image \n",
    "Image(filename='img.png')"
   ]
  },
  {
   "cell_type": "code",
   "execution_count": null,
   "metadata": {},
   "outputs": [],
   "source": []
  },
  {
   "cell_type": "code",
   "execution_count": null,
   "metadata": {},
   "outputs": [],
   "source": []
  },
  {
   "cell_type": "code",
   "execution_count": null,
   "metadata": {},
   "outputs": [],
   "source": []
  },
  {
   "cell_type": "code",
   "execution_count": null,
   "metadata": {},
   "outputs": [],
   "source": []
  },
  {
   "cell_type": "code",
   "execution_count": null,
   "metadata": {},
   "outputs": [],
   "source": []
  },
  {
   "cell_type": "code",
   "execution_count": null,
   "metadata": {},
   "outputs": [],
   "source": []
  },
  {
   "cell_type": "code",
   "execution_count": null,
   "metadata": {},
   "outputs": [],
   "source": []
  },
  {
   "cell_type": "code",
   "execution_count": 6,
   "metadata": {
    "scrolled": false
   },
   "outputs": [
    {
     "data": {
      "text/plain": [
       "{'response': {'metaInfo': {'timestamp': '2019-05-31T07:58:49Z',\n",
       "   'mapVersion': '8.30.96.157',\n",
       "   'moduleVersion': '7.2.201920-3561',\n",
       "   'interfaceVersion': '2.6.56',\n",
       "   'availableMapVersion': ['8.30.96.157']},\n",
       "  'route': [{'waypoint': [{'linkId': '+1220089704',\n",
       "      'mappedPosition': {'latitude': 59.3502796, 'longitude': 17.9991245},\n",
       "      'originalPosition': {'latitude': 59.3499999, 'longitude': 17.9999999},\n",
       "      'type': 'stopOver',\n",
       "      'spot': 0.0,\n",
       "      'sideOfStreet': 'left',\n",
       "      'mappedRoadName': 'Ängkärrsgatan',\n",
       "      'label': 'Ängkärrsgatan',\n",
       "      'shapeIndex': 0},\n",
       "     {'linkId': '-29150020',\n",
       "      'mappedPosition': {'latitude': 57.7536678, 'longitude': 14.1290725},\n",
       "      'originalPosition': {'latitude': 57.755, 'longitude': 14.13},\n",
       "      'type': 'stopOver',\n",
       "      'spot': 0.7155963,\n",
       "      'sideOfStreet': 'neither',\n",
       "      'mappedRoadName': 'Lovisagatan',\n",
       "      'label': 'Lovisagatan',\n",
       "      'shapeIndex': 2824}],\n",
       "    'mode': {'type': 'fastest',\n",
       "     'transportModes': ['car'],\n",
       "     'trafficMode': 'enabled',\n",
       "     'feature': []},\n",
       "    'leg': [{'start': {'linkId': '+1220089704',\n",
       "       'mappedPosition': {'latitude': 59.3502796, 'longitude': 17.9991245},\n",
       "       'originalPosition': {'latitude': 59.3499999, 'longitude': 17.9999999},\n",
       "       'type': 'stopOver',\n",
       "       'spot': 0.0,\n",
       "       'sideOfStreet': 'left',\n",
       "       'mappedRoadName': 'Ängkärrsgatan',\n",
       "       'label': 'Ängkärrsgatan',\n",
       "       'shapeIndex': 0},\n",
       "      'end': {'linkId': '-29150020',\n",
       "       'mappedPosition': {'latitude': 57.7536678, 'longitude': 14.1290725},\n",
       "       'originalPosition': {'latitude': 57.755, 'longitude': 14.13},\n",
       "       'type': 'stopOver',\n",
       "       'spot': 0.7155963,\n",
       "       'sideOfStreet': 'neither',\n",
       "       'mappedRoadName': 'Lovisagatan',\n",
       "       'label': 'Lovisagatan',\n",
       "       'shapeIndex': 2824},\n",
       "      'length': 327232,\n",
       "      'travelTime': 13066,\n",
       "      'maneuver': [{'position': {'latitude': 59.3502796,\n",
       "         'longitude': 17.9991245},\n",
       "        'instruction': 'Head <span class=\"heading\">west</span> on <span class=\"street\">Ängkärrsgatan</span>. <span class=\"distance-description\">Go for <span class=\"length\">88 m</span>.</span>',\n",
       "        'travelTime': 18,\n",
       "        'length': 88,\n",
       "        'id': 'M1',\n",
       "        '_type': 'PrivateTransportManeuverType'},\n",
       "       {'position': {'latitude': 59.3509555, 'longitude': 17.9987061},\n",
       "        'instruction': 'Turn <span class=\"direction\">right</span> onto <span class=\"next-street\">Ängkärrsgatan</span>. <span class=\"distance-description\">Go for <span class=\"length\">280 m</span>.</span>',\n",
       "        'travelTime': 54,\n",
       "        'length': 280,\n",
       "        'id': 'M2',\n",
       "        '_type': 'PrivateTransportManeuverType'},\n",
       "       {'position': {'latitude': 59.352715, 'longitude': 17.9969573},\n",
       "        'instruction': 'Turn <span class=\"direction\">right</span> onto <span class=\"next-street\">Huvudstagatan</span>. <span class=\"distance-description\">Go for <span class=\"length\">139 m</span>.</span>',\n",
       "        'travelTime': 33,\n",
       "        'length': 139,\n",
       "        'id': 'M3',\n",
       "        '_type': 'PrivateTransportManeuverType'},\n",
       "       {'position': {'latitude': 59.3539488, 'longitude': 17.9971933},\n",
       "        'instruction': 'Turn <span class=\"direction\">right</span> onto <span class=\"next-street\">Storgatan</span>. <span class=\"distance-description\">Go for <span class=\"length\">352 m</span>.</span>',\n",
       "        'travelTime': 52,\n",
       "        'length': 352,\n",
       "        'id': 'M4',\n",
       "        '_type': 'PrivateTransportManeuverType'},\n",
       "       {'position': {'latitude': 59.3534124, 'longitude': 18.0031586},\n",
       "        'instruction': 'Continue on <span class=\"next-street\">Armégatan</span>. <span class=\"distance-description\">Go for <span class=\"length\">288 m</span>.</span>',\n",
       "        'travelTime': 54,\n",
       "        'length': 288,\n",
       "        'id': 'M5',\n",
       "        '_type': 'PrivateTransportManeuverType'},\n",
       "       {'position': {'latitude': 59.3509984, 'longitude': 18.0047894},\n",
       "        'instruction': 'Turn <span class=\"direction\">left</span> onto <span class=\"next-street\">Ekelundsvägen</span> toward <span class=\"sign\"><span lang=\"sv\">Stockholm</span>/<span lang=\"sv\">E4</span>/<span lang=\"sv\">E20</span>/<span lang=\"sv\">Södertälje</span></span>. <span class=\"distance-description\">Go for <span class=\"length\">139 m</span>.</span>',\n",
       "        'travelTime': 18,\n",
       "        'length': 139,\n",
       "        'id': 'M6',\n",
       "        '_type': 'PrivateTransportManeuverType'},\n",
       "       {'position': {'latitude': 59.349947, 'longitude': 18.0060124},\n",
       "        'instruction': 'Take the <span class=\"exit\">2nd exit</span> from roundabout onto <span class=\"next-street\">Ekelundsvägen</span> toward <span class=\"sign\"><span lang=\"sv\">E4 S</span>/<span lang=\"sv\">E20 S</span>/<span lang=\"sv\">Hornsberg</span></span>. <span class=\"distance-description\">Go for <span class=\"length\">335 m</span>.</span>',\n",
       "        'travelTime': 43,\n",
       "        'length': 335,\n",
       "        'id': 'M7',\n",
       "        '_type': 'PrivateTransportManeuverType'},\n",
       "       {'position': {'latitude': 59.3484664, 'longitude': 18.0096281},\n",
       "        'instruction': 'Take the <span class=\"exit\">2nd exit</span> from roundabout onto <span class=\"number\">E4/E20</span> <span class=\"next-street\">(Essingeleden)</span> toward <span class=\"sign\"><span lang=\"sv\">E4 N</span>/<span lang=\"sv\">E20 N</span>/<span lang=\"sv\">Sjukhuset</span>/<span lang=\"sv\">Stockholm C</span></span>. <span class=\"distance-description\">Go for <span class=\"length\">14.7 km</span>.</span>',\n",
       "        'travelTime': 800,\n",
       "        'length': 14685,\n",
       "        'id': 'M8',\n",
       "        '_type': 'PrivateTransportManeuverType'},\n",
       "       {'position': {'latitude': 59.2644382, 'longitude': 17.8973401},\n",
       "        'instruction': 'Keep <span class=\"direction\">right</span> onto <span class=\"number\">E4/E20</span> <span class=\"next-street\">(Södertäljevägen)</span>. <span class=\"distance-description\">Go for <span class=\"length\">18.7 km</span>.</span>',\n",
       "        'travelTime': 782,\n",
       "        'length': 18717,\n",
       "        'id': 'M9',\n",
       "        '_type': 'PrivateTransportManeuverType'},\n",
       "       {'position': {'latitude': 59.1813326, 'longitude': 17.6416504},\n",
       "        'instruction': 'Continue on <span class=\"number\">E4</span> toward <span class=\"sign\"><span lang=\"sv\">Helsingborg</span>/<span lang=\"sv\">Nyköping</span></span>. <span class=\"distance-description\">Go for <span class=\"length\">289 km</span>.</span>',\n",
       "        'travelTime': 10785,\n",
       "        'length': 289205,\n",
       "        'id': 'M10',\n",
       "        '_type': 'PrivateTransportManeuverType'},\n",
       "       {'position': {'latitude': 57.7583885, 'longitude': 14.1565275},\n",
       "        'instruction': 'Continue on <span class=\"number\">40</span> toward <span class=\"sign\"><span lang=\"sv\">Göteborg</span>/<span lang=\"sv\">Flygplats</span></span>. <span class=\"distance-description\">Go for <span class=\"length\">975 m</span>.</span>',\n",
       "        'travelTime': 51,\n",
       "        'length': 975,\n",
       "        'id': 'M11',\n",
       "        '_type': 'PrivateTransportManeuverType'},\n",
       "       {'position': {'latitude': 57.7588284, 'longitude': 14.1402304},\n",
       "        'instruction': 'Take exit <span class=\"exit\">102</span> toward <span class=\"sign\"><span lang=\"sv\">Haga</span></span>. <span class=\"distance-description\">Go for <span class=\"length\">142 m</span>.</span>',\n",
       "        'travelTime': 12,\n",
       "        'length': 142,\n",
       "        'id': 'M12',\n",
       "        '_type': 'PrivateTransportManeuverType'},\n",
       "       {'position': {'latitude': 57.7589035, 'longitude': 14.1380847},\n",
       "        'instruction': 'Take the <span class=\"exit\">2nd exit</span> from roundabout onto <span class=\"next-street\">Hagaleden</span>. <span class=\"distance-description\">Go for <span class=\"length\">199 m</span>.</span>',\n",
       "        'travelTime': 30,\n",
       "        'length': 199,\n",
       "        'id': 'M13',\n",
       "        '_type': 'PrivateTransportManeuverType'},\n",
       "       {'position': {'latitude': 57.7578521, 'longitude': 14.1362393},\n",
       "        'instruction': 'Turn <span class=\"direction\">right</span> onto <span class=\"next-street\">Gräshagsgatan</span>. <span class=\"distance-description\">Go for <span class=\"length\">320 m</span>.</span>',\n",
       "        'travelTime': 53,\n",
       "        'length': 320,\n",
       "        'id': 'M14',\n",
       "        '_type': 'PrivateTransportManeuverType'},\n",
       "       {'position': {'latitude': 57.7591825, 'longitude': 14.131465},\n",
       "        'instruction': 'Turn <span class=\"direction\">left</span> onto <span class=\"next-street\">Lovisagatan</span>. <span class=\"distance-description\">Go for <span class=\"length\">1.0 km</span>.</span>',\n",
       "        'travelTime': 153,\n",
       "        'length': 1027,\n",
       "        'id': 'M15',\n",
       "        '_type': 'PrivateTransportManeuverType'},\n",
       "       {'position': {'latitude': 57.7522624, 'longitude': 14.128536},\n",
       "        'instruction': 'Turn <span class=\"direction\">left</span> onto <span class=\"next-street\">Lovisagatan</span>. <span class=\"distance-description\">Go for <span class=\"length\">183 m</span>.</span>',\n",
       "        'travelTime': 71,\n",
       "        'length': 183,\n",
       "        'id': 'M16',\n",
       "        '_type': 'PrivateTransportManeuverType'},\n",
       "       {'position': {'latitude': 57.7536678, 'longitude': 14.1290725},\n",
       "        'instruction': 'Arrive at <span class=\"street\">Lovisagatan</span>.',\n",
       "        'travelTime': 57,\n",
       "        'length': 158,\n",
       "        'id': 'M17',\n",
       "        '_type': 'PrivateTransportManeuverType'}]}],\n",
       "    'summary': {'distance': 327232,\n",
       "     'trafficTime': 13066,\n",
       "     'baseTime': 12093,\n",
       "     'flags': ['tollroad', 'tunnel', 'motorway', 'builtUpArea'],\n",
       "     'text': 'The trip takes <span class=\"length\">327 km</span> and <span class=\"time\">3:38 h</span>.',\n",
       "     'travelTime': 13066,\n",
       "     '_type': 'RouteSummaryType'}}],\n",
       "  'language': 'en-us'}}"
      ]
     },
     "execution_count": 6,
     "metadata": {},
     "output_type": "execute_result"
    }
   ],
   "source": [
    "response"
   ]
  },
  {
   "cell_type": "code",
   "execution_count": null,
   "metadata": {},
   "outputs": [],
   "source": []
  }
 ],
 "metadata": {
  "kernelspec": {
   "display_name": "Python 3",
   "language": "python",
   "name": "python3"
  },
  "language_info": {
   "codemirror_mode": {
    "name": "ipython",
    "version": 3
   },
   "file_extension": ".py",
   "mimetype": "text/x-python",
   "name": "python",
   "nbconvert_exporter": "python",
   "pygments_lexer": "ipython3",
   "version": "3.6.7"
  }
 },
 "nbformat": 4,
 "nbformat_minor": 2
}
